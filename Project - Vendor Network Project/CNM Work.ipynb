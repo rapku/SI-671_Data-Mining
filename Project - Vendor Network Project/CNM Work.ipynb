{
 "cells": [
  {
   "cell_type": "code",
   "execution_count": 1,
   "metadata": {},
   "outputs": [],
   "source": [
    "import networkx as nx\n",
    "import csv\n",
    "import json\n",
    "import matplotlib.pyplot as plt\n",
    "from collections import Counter, defaultdict\n",
    "import seaborn as sns\n",
    "import community\n",
    "import pandas as pd"
   ]
  },
  {
   "cell_type": "code",
   "execution_count": 11,
   "metadata": {},
   "outputs": [],
   "source": [
    "with open('shorter_edgelist.csv', 'rb') as file:\n",
    "    Big = nx.read_weighted_edgelist(file, delimiter='~')"
   ]
  },
  {
   "cell_type": "markdown",
   "metadata": {},
   "source": [
    "#### Node attribute (Which awards)"
   ]
  },
  {
   "cell_type": "code",
   "execution_count": 12,
   "metadata": {},
   "outputs": [],
   "source": [
    "with open('node_attr1.csv', 'r') as file:\n",
    "    reader = csv.reader(file)\n",
    "    next(reader)\n",
    "    node_attributes = defaultdict(dict)\n",
    "    for row in reader:\n",
    "        if int(row[1]) > 0:\n",
    "            node_attributes[row[0]]['NIH'] = 1\n",
    "        else:\n",
    "            node_attributes[row[0]]['NIH'] = 0\n",
    "        if int(row[2]) > 0:\n",
    "            node_attributes[row[0]]['NSF'] = 1\n",
    "        else:\n",
    "            node_attributes[row[0]]['NSF'] = 0\n",
    "        if int(row[3]) > 0:\n",
    "            node_attributes[row[0]]['USDA'] = 1\n",
    "        else:\n",
    "            node_attributes[row[0]]['USDA'] = 0"
   ]
  },
  {
   "cell_type": "code",
   "execution_count": 13,
   "metadata": {},
   "outputs": [],
   "source": [
    "with open('institution_attr1.csv', 'r') as file:\n",
    "    reader = csv.reader(file, delimiter = ',')\n",
    "    next(reader)\n",
    "    univlist = set()\n",
    "    for row in reader:\n",
    "        univlist.add(int(row[1]))\n",
    "    univ_table = {x:0 for x in univlist}\n",
    "    \n",
    "with open('institution_attr1.csv', 'r') as file:\n",
    "    reader = csv.reader(file, delimiter = ',')\n",
    "    next(reader)\n",
    "    node_attributes2 = {}\n",
    "    for row in reader:\n",
    "        if row[0] not in node_attributes2:\n",
    "            node_attributes2[row[0]] = univ_table.copy()\n",
    "        node_attributes2[row[0]][int(row[1])] = 1"
   ]
  },
  {
   "cell_type": "code",
   "execution_count": 14,
   "metadata": {},
   "outputs": [],
   "source": [
    "nx.set_node_attributes(Big, node_attributes)\n",
    "nx.set_node_attributes(Big, node_attributes2)"
   ]
  },
  {
   "cell_type": "code",
   "execution_count": 15,
   "metadata": {},
   "outputs": [],
   "source": [
    "BigLCC = Big.subgraph(max(nx.connected_components(Big), key=len))"
   ]
  },
  {
   "cell_type": "code",
   "execution_count": 5,
   "metadata": {},
   "outputs": [
    {
     "name": "stdout",
     "output_type": "stream",
     "text": [
      "Name: \n",
      "Type: Graph\n",
      "Number of nodes: 44774\n",
      "Number of edges: 1263365\n",
      "Average degree:  56.4330\n"
     ]
    }
   ],
   "source": [
    "print(nx.info(BigLCC))"
   ]
  },
  {
   "cell_type": "code",
   "execution_count": 6,
   "metadata": {},
   "outputs": [
    {
     "name": "stdout",
     "output_type": "stream",
     "text": [
      "Name: \n",
      "Type: Graph\n",
      "Number of nodes: 47594\n",
      "Number of edges: 1271189\n",
      "Average degree:  53.4180\n"
     ]
    }
   ],
   "source": [
    "print(nx.info(Big))"
   ]
  },
  {
   "cell_type": "markdown",
   "metadata": {},
   "source": [
    "### Drawing CNM communities"
   ]
  },
  {
   "cell_type": "code",
   "execution_count": 2,
   "metadata": {},
   "outputs": [],
   "source": [
    "with open('CNMresult.txt', 'r') as textfile:\n",
    "    cnm_communities = json.loads(textfile.readline())"
   ]
  },
  {
   "cell_type": "code",
   "execution_count": 3,
   "metadata": {},
   "outputs": [],
   "source": [
    "partition = {}\n",
    "\n",
    "for x in cnm_communities.keys():\n",
    "    for node in cnm_communities[x]:\n",
    "        partition[node] = int(x)"
   ]
  },
  {
   "cell_type": "code",
   "execution_count": 4,
   "metadata": {},
   "outputs": [
    {
     "data": {
      "text/plain": [
       "440"
      ]
     },
     "execution_count": 4,
     "metadata": {},
     "output_type": "execute_result"
    }
   ],
   "source": [
    "len(cnm_communities.keys())"
   ]
  },
  {
   "cell_type": "code",
   "execution_count": 5,
   "metadata": {},
   "outputs": [],
   "source": [
    "largest_comm = {int(x):y for x,y in cnm_communities.items() if len(y) > 1000}"
   ]
  },
  {
   "cell_type": "code",
   "execution_count": 6,
   "metadata": {
    "scrolled": true
   },
   "outputs": [
    {
     "data": {
      "text/plain": [
       "dict_keys([0, 1, 5, 6, 7, 8])"
      ]
     },
     "execution_count": 6,
     "metadata": {},
     "output_type": "execute_result"
    }
   ],
   "source": [
    "largest_comm.keys()"
   ]
  },
  {
   "cell_type": "code",
   "execution_count": 7,
   "metadata": {},
   "outputs": [],
   "source": [
    "community_nodes = set()\n",
    "\n",
    "for key in largest_comm.keys():\n",
    "    nodes_cnm = largest_comm[key]\n",
    "    for node in nodes_cnm:\n",
    "        community_nodes.add(node)"
   ]
  },
  {
   "cell_type": "code",
   "execution_count": 8,
   "metadata": {},
   "outputs": [],
   "source": [
    "community_dict = defaultdict(list)\n",
    "for x in partition.keys():\n",
    "    community_dict[partition[x]].append(x)"
   ]
  },
  {
   "cell_type": "markdown",
   "metadata": {},
   "source": [
    "Attributes and Ground Truth"
   ]
  },
  {
   "cell_type": "code",
   "execution_count": 16,
   "metadata": {},
   "outputs": [],
   "source": [
    "ground_truth = {}\n",
    "\n",
    "ground_truth['exclusive_nsf'] = list(filter(lambda x: (x[1]['NSF'] >= 1 and x[1]['NIH']==0 and x[1]['USDA']==0), BigLCC.nodes(data=True)))\n",
    "ground_truth['exclusive_nih'] = list(filter(lambda x: (x[1]['NSF'] ==0 and x[1]['NIH']>= 1 and x[1]['USDA']==0), BigLCC.nodes(data=True)))\n",
    "ground_truth['exclusive_usda'] = list(filter(lambda x: (x[1]['NSF']==0 and x[1]['NIH']==0 and x[1]['USDA']>= 1), BigLCC.nodes(data=True)))\n",
    "\n",
    "ground_truth['combo_nsf_nih'] = list(filter(lambda x: (x[1]['NSF']>= 1 and x[1]['NIH']>= 1 and x[1]['USDA']== 0), BigLCC.nodes(data=True)))\n",
    "ground_truth['combo_nsf_usda'] = list(filter(lambda x: (x[1]['NSF']>= 1 and x[1]['NIH']==0 and x[1]['USDA']>= 1), BigLCC.nodes(data=True)))\n",
    "ground_truth['combo_nih_usda'] = list(filter(lambda x: (x[1]['NSF']==0 and x[1]['NIH']>= 1 and x[1]['USDA']>= 1), BigLCC.nodes(data=True)))\n",
    "\n",
    "ground_truth['serve_all'] = list(filter(lambda x: (x[1]['NSF']>= 1 and x[1]['NIH']>= 1 and x[1]['USDA']>= 1), BigLCC.nodes(data=True)))\n",
    "ground_truth['serve_other'] = list(filter(lambda x: (x[1]['NSF']==0 and x[1]['NIH']==0 and x[1]['USDA']== 0), BigLCC.nodes(data=True)))\n",
    "\n",
    "ground_truth['serve_nsf'] = list(filter(lambda x: (x[1]['NSF'] >= 1), BigLCC.nodes(data=True)))\n",
    "ground_truth['serve_nih'] = list(filter(lambda x: (x[1]['NIH']>= 1 ), BigLCC.nodes(data=True)))\n",
    "ground_truth['serve_usda'] = list(filter(lambda x: (x[1]['USDA']>= 1), BigLCC.nodes(data=True)))\n",
    "\n",
    "ground_truth['serve_nsf_nih'] = list(filter(lambda x: (x[1]['NSF']>= 1 and x[1]['NIH']>= 1 ), BigLCC.nodes(data=True)))\n",
    "ground_truth['serve_nsf_usda'] = list(filter(lambda x: (x[1]['NSF']>= 1 and x[1]['USDA']>= 1), BigLCC.nodes(data=True)))\n",
    "ground_truth['serve_nih_usda'] = list(filter(lambda x: (x[1]['NIH']>= 1 and x[1]['USDA']>= 1), BigLCC.nodes(data=True)))"
   ]
  },
  {
   "cell_type": "code",
   "execution_count": 17,
   "metadata": {},
   "outputs": [],
   "source": [
    "ground_truth_single_attr = defaultdict(list)\n",
    "list_of_node_attr = BigLCC.node[list(BigLCC.nodes())[0]].keys()\n",
    "\n",
    "for attr in list_of_node_attr:\n",
    "    for node in list(BigLCC.nodes(data=True)):\n",
    "        if node[1][attr] >= 1:\n",
    "            ground_truth_single_attr[attr].append(node)"
   ]
  },
  {
   "cell_type": "code",
   "execution_count": 18,
   "metadata": {},
   "outputs": [
    {
     "name": "stdout",
     "output_type": "stream",
     "text": [
      "Evaluating exclusive_nsf\n",
      "New maximum found: Partition 0, with 54 common nodes out of 7460 (0.007238605898123324)\n",
      "New maximum found: Partition 1, with 3207 common nodes out of 7460 (0.4298927613941019)\n",
      "Evaluating exclusive_nih\n",
      "New maximum found: Partition 0, with 335 common nodes out of 13132 (0.025510204081632654)\n",
      "New maximum found: Partition 1, with 1844 common nodes out of 13132 (0.14042034724337496)\n",
      "New maximum found: Partition 5, with 5387 common nodes out of 13132 (0.4102193116052391)\n",
      "Evaluating exclusive_usda\n",
      "New maximum found: Partition 0, with 309 common nodes out of 1728 (0.17881944444444445)\n",
      "New maximum found: Partition 1, with 502 common nodes out of 1728 (0.29050925925925924)\n",
      "New maximum found: Partition 6, with 522 common nodes out of 1728 (0.3020833333333333)\n",
      "Evaluating combo_nsf_nih\n",
      "New maximum found: Partition 0, with 36 common nodes out of 6309 (0.005706134094151213)\n",
      "New maximum found: Partition 1, with 1663 common nodes out of 6309 (0.2635916944048185)\n",
      "New maximum found: Partition 5, with 2861 common nodes out of 6309 (0.45347915676018385)\n",
      "Evaluating combo_nsf_usda\n",
      "New maximum found: Partition 0, with 10 common nodes out of 681 (0.014684287812041116)\n",
      "New maximum found: Partition 1, with 292 common nodes out of 681 (0.4287812041116006)\n",
      "Evaluating combo_nih_usda\n",
      "New maximum found: Partition 0, with 73 common nodes out of 822 (0.08880778588807786)\n",
      "New maximum found: Partition 1, with 212 common nodes out of 822 (0.25790754257907544)\n",
      "New maximum found: Partition 5, with 287 common nodes out of 822 (0.3491484184914842)\n",
      "Evaluating serve_all\n",
      "New maximum found: Partition 0, with 35 common nodes out of 3043 (0.011501807426881366)\n",
      "New maximum found: Partition 1, with 850 common nodes out of 3043 (0.27932960893854747)\n",
      "New maximum found: Partition 5, with 1528 common nodes out of 3043 (0.5021360499507065)\n",
      "Evaluating serve_other\n",
      "New maximum found: Partition 0, with 495 common nodes out of 11599 (0.04267609276661781)\n",
      "New maximum found: Partition 1, with 3337 common nodes out of 11599 (0.28769721527717906)\n",
      "Evaluating serve_nsf\n",
      "New maximum found: Partition 0, with 135 common nodes out of 17493 (0.007717372663351055)\n",
      "New maximum found: Partition 1, with 6012 common nodes out of 17493 (0.343680329274567)\n",
      "Evaluating serve_nih\n",
      "New maximum found: Partition 0, with 479 common nodes out of 23306 (0.020552647386938985)\n",
      "New maximum found: Partition 1, with 4569 common nodes out of 23306 (0.1960439371835579)\n",
      "New maximum found: Partition 5, with 10063 common nodes out of 23306 (0.43177722474899166)\n",
      "Evaluating serve_usda\n",
      "New maximum found: Partition 0, with 427 common nodes out of 6274 (0.06805865476569971)\n",
      "New maximum found: Partition 1, with 1856 common nodes out of 6274 (0.29582403570290083)\n",
      "New maximum found: Partition 5, with 1981 common nodes out of 6274 (0.3157475294867708)\n",
      "Evaluating serve_nsf_nih\n",
      "New maximum found: Partition 0, with 71 common nodes out of 9352 (0.007591958939264329)\n",
      "New maximum found: Partition 1, with 2513 common nodes out of 9352 (0.2687125748502994)\n",
      "New maximum found: Partition 5, with 4389 common nodes out of 9352 (0.469311377245509)\n",
      "Evaluating serve_nsf_usda\n",
      "New maximum found: Partition 0, with 45 common nodes out of 3724 (0.012083780880773363)\n",
      "New maximum found: Partition 1, with 1142 common nodes out of 3724 (0.3066595059076262)\n",
      "New maximum found: Partition 5, with 1607 common nodes out of 3724 (0.4315252416756176)\n",
      "Evaluating serve_nih_usda\n",
      "New maximum found: Partition 0, with 108 common nodes out of 3865 (0.027943078913324707)\n",
      "New maximum found: Partition 1, with 1062 common nodes out of 3865 (0.2747736093143596)\n",
      "New maximum found: Partition 5, with 1815 common nodes out of 3865 (0.46959896507115134)\n"
     ]
    }
   ],
   "source": [
    "## Compare each partition to ground_truth, to see if any are similar to ground\n",
    "cnm_max = {}\n",
    "\n",
    "for truth in ground_truth.keys():\n",
    "    print('Evaluating {}'.format(truth))\n",
    "    true_community = set([x[0] for x in ground_truth[truth]])\n",
    "    len_true = len(true_community)\n",
    "    maxsame = 0\n",
    "    \n",
    "    for x in largest_comm.keys():\n",
    "        cnm_comm = set(largest_comm[x])\n",
    "        \n",
    "        number_same = len(true_community.intersection(cnm_comm))\n",
    "        if number_same > maxsame:\n",
    "            maxsame = number_same\n",
    "            cnm_max[truth] = (x, number_same)\n",
    "            frac = number_same/len_true\n",
    "            print('New maximum found: Partition {}, with {} common nodes out of {} ({})'.format(x, number_same, len_true, frac))"
   ]
  },
  {
   "cell_type": "code",
   "execution_count": 19,
   "metadata": {},
   "outputs": [],
   "source": [
    "node_attribute_by_cluster = defaultdict(dict)\n",
    "\n",
    "for x in community_dict.keys():\n",
    "    subgraph = BigLCC.subgraph(community_dict[x])\n",
    "    tot_nodes = subgraph.number_of_nodes()\n",
    "    \n",
    "    for attr in list_of_node_attr:\n",
    "        node_attribute_by_cluster[x][attr] = Counter(nx.get_node_attributes(subgraph, attr).values())\n",
    "        nodes_w_attr = node_attribute_by_cluster[x][attr][1]\n",
    "        node_attribute_by_cluster[x][attr] = (nodes_w_attr/tot_nodes, nodes_w_attr/len(ground_truth_single_attr[attr]))"
   ]
  },
  {
   "cell_type": "code",
   "execution_count": 20,
   "metadata": {},
   "outputs": [
    {
     "data": {
      "text/plain": [
       "{'exclusive_nsf': (1, 3207),\n",
       " 'exclusive_nih': (5, 5387),\n",
       " 'exclusive_usda': (6, 522),\n",
       " 'combo_nsf_nih': (5, 2861),\n",
       " 'combo_nsf_usda': (1, 292),\n",
       " 'combo_nih_usda': (5, 287),\n",
       " 'serve_all': (5, 1528),\n",
       " 'serve_other': (1, 3337),\n",
       " 'serve_nsf': (1, 6012),\n",
       " 'serve_nih': (5, 10063),\n",
       " 'serve_usda': (5, 1981),\n",
       " 'serve_nsf_nih': (5, 4389),\n",
       " 'serve_nsf_usda': (5, 1607),\n",
       " 'serve_nih_usda': (5, 1815)}"
      ]
     },
     "execution_count": 20,
     "metadata": {},
     "output_type": "execute_result"
    }
   ],
   "source": [
    "cnm_max"
   ]
  },
  {
   "cell_type": "code",
   "execution_count": 21,
   "metadata": {},
   "outputs": [
    {
     "data": {
      "text/plain": [
       "{'NIH': (0.8262583134904343, 0.43177722474899166),\n",
       " 'NSF': (0.43394367353641516, 0.3021208483393357),\n",
       " 'USDA': (0.16265703259709335, 0.3157475294867708),\n",
       " 9730: (0.07751046883980622, 0.4328289775332416),\n",
       " 45700: (0.22998604154692504, 0.6721862251019919),\n",
       " 22165: (0.11528040068971179, 0.23656276326874473),\n",
       " 14105: (0.1509976188521225, 0.5974658869395711),\n",
       " 74915: (0.1385992281796535, 0.7847512784751278),\n",
       " 10151: (0.04959356268987602, 0.3320505772402419),\n",
       " 77480: (0.17694391986205765, 0.5425478348439073),\n",
       " 10161: (0.16610559159208474, 0.35691601976005644),\n",
       " 20150: (0.18285573528204285, 0.447548231511254),\n",
       " 12090: (0.1199605878972001, 0.23686770428015563),\n",
       " 10171: (0.16930782494457672, 0.6325153374233129),\n",
       " 11584: (0.0390015600624025, 0.26595744680851063),\n",
       " 27201: (0.09590278347976024, 0.11811103246030943),\n",
       " 10181: (0.03629197799490927, 0.2134234669241912),\n",
       " 27591: (0.03908366860990229, 0.5378531073446328),\n",
       " 87501: (0.1198784793497003, 0.6075738660008323),\n",
       " 10191: (0.03875523441990311, 0.4696517412935323),\n",
       " 22480: (0.0483619344773791, 0.3503866745984533),\n",
       " 26195: (0.1353969948271615, 0.3780375974323705),\n",
       " 11479: (0.056162246489859596, 0.34915773353751917),\n",
       " 10075: (0.2307250184744232, 0.41069862613270974),\n",
       " 23402: (0.21069053288447329, 0.8216458533461415),\n",
       " 23790: (0.10624846046473438, 0.6890308839190629),\n",
       " 38770: (0.14081615896214797, 0.6002800140007001),\n",
       " 8060: (0.12102799901469743, 0.5695517774343122)}"
      ]
     },
     "execution_count": 21,
     "metadata": {},
     "output_type": "execute_result"
    }
   ],
   "source": [
    "#[0, 1, 5, 6, 7, 8]\n",
    "node_attribute_by_cluster[5]"
   ]
  },
  {
   "cell_type": "code",
   "execution_count": 22,
   "metadata": {},
   "outputs": [],
   "source": [
    "bargraph = defaultdict(list)\n",
    "bargraph2 = defaultdict(list)\n",
    "\n",
    "for attr in list_of_node_attr:\n",
    "    for community in largest_comm.keys():\n",
    "        bargraph[attr].append((community, node_attribute_by_cluster[community][attr][1]))\n",
    "        bargraph2[attr].append((community, node_attribute_by_cluster[community][attr][0]))\n",
    "    remainder = 1 - sum([x[1] for x in bargraph[attr]])\n",
    "    bargraph[attr].append(('Smaller communities', remainder ))"
   ]
  },
  {
   "cell_type": "code",
   "execution_count": 23,
   "metadata": {},
   "outputs": [],
   "source": [
    "%matplotlib inline\n",
    "testpd = pd.DataFrame([(*t, k) for k, v in bargraph.items() for t in v], columns = ['Community', 'Total', 'Agency'])\n",
    "\n",
    "agency = testpd[testpd.Agency.isin(['USDA', 'NSF', 'NIH'])]\n",
    "univ = testpd[testpd.Agency.isin(['USDA', 'NSF', 'NIH']) == False].rename(columns={'Agency':'University ID'})"
   ]
  },
  {
   "cell_type": "code",
   "execution_count": 36,
   "metadata": {},
   "outputs": [
    {
     "data": {
      "image/png": "[encoded data removed]",
      "text/plain": [
       "<Figure size 864x288 with 1 Axes>"
      ]
     },
     "metadata": {
      "needs_background": "light"
     },
     "output_type": "display_data"
    }
   ],
   "source": [
    "plota = agency.pivot(index = 'Agency', columns='Community').plot.barh(stacked=True, figsize=(12,4), colormap='tab20b', legend=False)\n",
    "# plt.savefig('Top 10 Community representation in agencies.png')"
   ]
  },
  {
   "cell_type": "code",
   "execution_count": 25,
   "metadata": {},
   "outputs": [
    {
     "data": {
      "image/png": "[encoded data removed]",
      "text/plain": [
       "<Figure size 864x1296 with 1 Axes>"
      ]
     },
     "metadata": {
      "needs_background": "light"
     },
     "output_type": "display_data"
    }
   ],
   "source": [
    "plotb = univ.pivot(index = 'University ID', columns='Community').plot.barh(stacked=True, figsize=(12,18), colormap='tab20b', legend=False)\n",
    "# plt.savefig('Top 10 Community representation in universities.png')"
   ]
  },
  {
   "cell_type": "code",
   "execution_count": 44,
   "metadata": {},
   "outputs": [],
   "source": [
    "percomm_pd = pd.DataFrame([(*t,k) for k, v in bargraph2.items() for t in v], columns = ['Community', 'Total', 'Agency'])\n",
    "lista = percomm_pd[percomm_pd.Community == 5]\n",
    "listb = lista[lista.Agency.isin(['USDA', 'NSF', 'NIH']) == False].rename(columns={'Agency':'University ID'})\n",
    "listc = percomm_pd[percomm_pd.Agency.isin(['USDA', 'NSF', 'NIH']) == False].rename(columns={'Agency':'University ID'})"
   ]
  },
  {
   "cell_type": "code",
   "execution_count": 45,
   "metadata": {},
   "outputs": [
    {
     "data": {
      "text/plain": [
       "Text(0,0.5,'% of nodes')"
      ]
     },
     "execution_count": 45,
     "metadata": {},
     "output_type": "execute_result"
    },
    {
     "data": {
      "image/png": "[encoded data removed]",
      "text/plain": [
       "<Figure size 648x288 with 1 Axes>"
      ]
     },
     "metadata": {
      "needs_background": "light"
     },
     "output_type": "display_data"
    }
   ],
   "source": [
    "plotc =  listb.pivot(index = 'University ID', columns='Community').plot.bar(legend=False, figsize=(9,4), title='Community 5 (CNM)')\n",
    "plotc.set_ylabel('% of nodes')"
   ]
  },
  {
   "cell_type": "code",
   "execution_count": 50,
   "metadata": {},
   "outputs": [
    {
     "data": {
      "image/png": "[encoded data removed]",
      "text/plain": [
       "<Figure size 864x216 with 1 Axes>"
      ]
     },
     "metadata": {
      "needs_background": "light"
     },
     "output_type": "display_data"
    }
   ],
   "source": [
    "plotc =  listc.pivot(index = 'University ID', columns='Community').plot.bar(width=0.75, legend=False, figsize=(12,3), title='CNM Community Node Distribution')\n",
    "plotc.set_ylabel('% of nodes')\n",
    "plt.savefig('CNM community vs univ.png')"
   ]
  },
  {
   "cell_type": "code",
   "execution_count": 48,
   "metadata": {
    "scrolled": true
   },
   "outputs": [
    {
     "data": {
      "image/png": "[encoded data removed]",
      "text/plain": [
       "<Figure size 864x216 with 1 Axes>"
      ]
     },
     "metadata": {
      "needs_background": "light"
     },
     "output_type": "display_data"
    }
   ],
   "source": [
    "listd = percomm_pd[percomm_pd.Agency.isin(['USDA', 'NSF', 'NIH']) == True]\n",
    "plotd =  listd.pivot(index = 'Agency', columns='Community').plot.bar(width=0.75, legend=False, figsize=(12,3), title='CNM Community Node Distribution')\n",
    "plotd.set_ylabel('% of nodes')\n",
    "plt.savefig('CNM community vs agency.png')"
   ]
  },
  {
   "cell_type": "markdown",
   "metadata": {},
   "source": [
    "Descriptive Analysis of Communities"
   ]
  },
  {
   "cell_type": "code",
   "execution_count": 26,
   "metadata": {},
   "outputs": [],
   "source": [
    "desc = {}\n",
    "\n",
    "for x in largest_comm.keys():\n",
    "    subg = BigLCC.subgraph(largest_comm[x])\n",
    "    average_clust = nx.average_clustering(subg)\n",
    "    \n",
    "    node = subg.number_of_nodes()\n",
    "    \n",
    "    cent = nx.degree(subg)\n",
    "    maxcent = max([a[1] for a in cent])\n",
    "    freeman = sum([maxcent-a[1] for a in cent])/((subg.number_of_nodes()-1)*(subg.number_of_nodes()-2))\n",
    "    \n",
    "    averagedeg = sum(dict(subg.degree()).values())/node\n",
    "    \n",
    "    #Average degree, freeman, average clustering\n",
    "    desc[x] = (node, averagedeg, freeman, average_clust)"
   ]
  },
  {
   "cell_type": "code",
   "execution_count": 27,
   "metadata": {},
   "outputs": [],
   "source": [
    "textf = json.dumps(desc)\n",
    "\n",
    "with open('descriptive_CNM_comm.txt', 'w') as textfile:\n",
    "    textfile.write(textf)"
   ]
  },
  {
   "cell_type": "markdown",
   "metadata": {},
   "source": [
    "Graph 1: All communities with >500 nodes"
   ]
  },
  {
   "cell_type": "code",
   "execution_count": null,
   "metadata": {
    "collapsed": true
   },
   "outputs": [],
   "source": [
    "Copied = BigLCC.copy()\n",
    "all_nodes = list(Copied.nodes())\n",
    "\n",
    "for node in all_nodes :\n",
    "    if node not in community_nodes:\n",
    "        Copied.remove_node(node)"
   ]
  },
  {
   "cell_type": "code",
   "execution_count": null,
   "metadata": {
    "collapsed": true
   },
   "outputs": [],
   "source": [
    "colors = zip(largest_comm, sns.color_palette('hls', len(largest_comm)))\n",
    "colors = dict(colors)"
   ]
  },
  {
   "cell_type": "code",
   "execution_count": null,
   "metadata": {
    "collapsed": true
   },
   "outputs": [],
   "source": [
    "plt.figure(figsize=(20, 15))\n",
    "node_size = 20\n",
    "pos = nx.spring_layout(Copied)\n",
    "\n",
    "for com in largest_comm.keys():\n",
    "    list_nodes = largest_comm[com]\n",
    "    nx.draw_networkx_nodes(Copied, pos, list_nodes, node_size = node_size, node_color = colors[com])\n",
    "nx.draw_networkx_edges(Copied, pos, alpha=0.5)\n",
    "plt.axis('off')\n",
    "plt.savefig('CNM Community Detection.png')"
   ]
  },
  {
   "cell_type": "markdown",
   "metadata": {},
   "source": [
    "Graph 2: Top 3 communities"
   ]
  },
  {
   "cell_type": "code",
   "execution_count": null,
   "metadata": {
    "collapsed": true
   },
   "outputs": [],
   "source": [
    "community_nodes2 = set()\n",
    "\n",
    "for key in list(largest_comm.keys())[0:3]:\n",
    "    nodes_cnm = largest_comm[key]\n",
    "    for node in nodes_cnm:\n",
    "        community_nodes2.add(node)"
   ]
  },
  {
   "cell_type": "code",
   "execution_count": null,
   "metadata": {
    "collapsed": true
   },
   "outputs": [],
   "source": [
    "Copied2 = BigLCC.copy()\n",
    "all_nodes = list(Copied2.nodes())\n",
    "\n",
    "for node in all_nodes :\n",
    "    if node not in community_nodes2:\n",
    "        Copied2.remove_node(node)"
   ]
  },
  {
   "cell_type": "code",
   "execution_count": null,
   "metadata": {
    "collapsed": true
   },
   "outputs": [],
   "source": [
    "colors2 = zip(list(largest_comm.keys())[0:3], sns.color_palette('hls', len(list(largest_comm.keys())[0:3])))\n",
    "colors2 = dict(colors2)"
   ]
  },
  {
   "cell_type": "code",
   "execution_count": null,
   "metadata": {
    "collapsed": true
   },
   "outputs": [],
   "source": [
    "colors2"
   ]
  },
  {
   "cell_type": "code",
   "execution_count": null,
   "metadata": {
    "collapsed": true
   },
   "outputs": [],
   "source": [
    "plt.figure(figsize=(20, 15))\n",
    "node_size = 20\n",
    "pos = nx.spring_layout(Copied2)\n",
    "\n",
    "for com in list(largest_comm.keys())[0:3]:\n",
    "    list_nodes = largest_comm[com]\n",
    "    nx.draw_networkx_nodes(Copied2, pos, list_nodes, node_size = node_size, node_color = colors2[com])\n",
    "nx.draw_networkx_edges(Copied2, pos, alpha=0.5)\n",
    "plt.axis('off')\n",
    "plt.savefig('CNM Community Detection - 3 largest communities.png')"
   ]
  },
  {
   "cell_type": "code",
   "execution_count": null,
   "metadata": {
    "collapsed": true
   },
   "outputs": [],
   "source": []
  }
 ],
 "metadata": {
  "kernelspec": {
   "display_name": "Python 3",
   "language": "python",
   "name": "python3"
  },
  "language_info": {
   "codemirror_mode": {
    "name": "ipython",
    "version": 3
   },
   "file_extension": ".py",
   "mimetype": "text/x-python",
   "name": "python",
   "nbconvert_exporter": "python",
   "pygments_lexer": "ipython3",
   "version": "3.6.6"
  }
 },
 "nbformat": 4,
 "nbformat_minor": 2
}
