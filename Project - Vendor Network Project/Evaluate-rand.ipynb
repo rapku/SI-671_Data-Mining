{
 "cells": [
  {
   "cell_type": "code",
   "execution_count": 1,
   "metadata": {},
   "outputs": [],
   "source": [
    "import networkx as nx\n",
    "from scipy import stats\n",
    "import numpy as np"
   ]
  },
  {
   "cell_type": "code",
   "execution_count": 2,
   "metadata": {
    "collapsed": true
   },
   "outputs": [],
   "source": [
    "def generate_er(number,node, p):\n",
    "    numcomp, percent_bigcomp, averagedeg, freeman1 = [],[],[],[]\n",
    "    for x in range(number):\n",
    "        g = nx.fast_gnp_random_graph(node, p)\n",
    "        print(g.number_of_edges())\n",
    "        print('Graph generated')\n",
    "        \n",
    "        cent = nx.degree(g)\n",
    "        maxcent = max([x[1] for x in cent])\n",
    "        freeman = sum([maxcent-x[1] for x in cent])/((g.number_of_nodes()-1)*(g.number_of_nodes()-2))\n",
    "        \n",
    "        subgraphs = [g.subgraph(c) for c in nx.connected_components(g)]\n",
    "        numcomp.append(len(subgraphs))\n",
    "        bigcomp = max(subgraphs, key=len)\n",
    "        percent_bigcomp.append(len(bigcomp)/node)\n",
    "        averagedeg.append(sum(dict(g.degree()).values())/node)\n",
    "        freeman1.append(freeman)\n",
    "        \n",
    "        del g\n",
    "    \n",
    "    print(np.mean(numpcomp), np.mean(percent_bigcomp), np.mean(averagedeg), np.mean(freeman1))\n",
    "    final_answer = {}\n",
    "    final_answer['#components'] = stats.norm.interval(0.99, loc=np.mean(numcomp), scale=np.std(numcomp))\n",
    "    final_answer['%largest_component'] = stats.norm.interval(0.99, loc=np.mean(percent_bigcomp), scale=np.std(percent_bigcomp))\n",
    "    final_answer['average degree'] = stats.norm.interval(0.99, loc=np.mean(averagedeg), scale=np.std(averagedeg))\n",
    "    final_answer['Freeman'] = stats.norm.interval(0.99, loc=np.mean(freeman1), scale=np.std(freeman1))\n",
    "    return final_answer"
   ]
  },
  {
   "cell_type": "code",
   "execution_count": 3,
   "metadata": {
    "collapsed": true
   },
   "outputs": [],
   "source": [
    "def generate_ba(number,node, num):\n",
    "    numcomp, percent_bigcomp, averagedeg, freeman1 = [],[],[],[]\n",
    "    for x in range(number):\n",
    "        g = nx.barabasi_albert_graph(node, num)\n",
    "        print(g.number_of_edges())\n",
    "        print('Graph generated')\n",
    "        \n",
    "        cent = nx.degree(g)\n",
    "        maxcent = max([x[1] for x in cent])\n",
    "        freeman = sum([maxcent-x[1] for x in cent])/((g.number_of_nodes()-1)*(g.number_of_nodes()-2))\n",
    "        \n",
    "        subgraphs = [g.subgraph(c) for c in nx.connected_components(g)]\n",
    "        numcomp.append(len(subgraphs))\n",
    "        bigcomp = max(subgraphs, key=len)\n",
    "        percent_bigcomp.append(len(bigcomp)/node)\n",
    "        averagedeg.append(sum(dict(g.degree()).values())/node)\n",
    "        freeman1.append(freeman)\n",
    "        \n",
    "        del g\n",
    "    \n",
    "    print(np.mean(numpcomp), np.mean(percent_bigcomp), np.mean(averagedeg), np.mean(freeman1))\n",
    "    final_answer = {}\n",
    "    final_answer['#components'] = stats.norm.interval(0.99, loc=np.mean(numcomp), scale=np.std(numcomp))\n",
    "    final_answer['%largest_component'] = stats.norm.interval(0.99, loc=np.mean(percent_bigcomp), scale=np.std(percent_bigcomp))\n",
    "    final_answer['average degree'] = stats.norm.interval(0.99, loc=np.mean(averagedeg), scale=np.std(averagedeg))\n",
    "    final_answer['Freeman'] = stats.norm.interval(0.99, loc=np.mean(freeman1), scale=np.std(freeman1))\n",
    "    return final_answer"
   ]
  },
  {
   "cell_type": "code",
   "execution_count": null,
   "metadata": {},
   "outputs": [
    {
     "name": "stdout",
     "output_type": "stream",
     "text": [
      "12230671\n",
      "Graph generated\n",
      "12230571\n",
      "Graph generated\n"
     ]
    }
   ],
   "source": [
    "generate_er(20, 49464, 0.01)"
   ]
  },
  {
   "cell_type": "code",
   "execution_count": null,
   "metadata": {
    "collapsed": true
   },
   "outputs": [],
   "source": [
    "generate_ba(20, 49464, 25)"
   ]
  },
  {
   "cell_type": "code",
   "execution_count": null,
   "metadata": {
    "collapsed": true
   },
   "outputs": [],
   "source": []
  }
 ],
 "metadata": {
  "kernelspec": {
   "display_name": "Python 2",
   "language": "python",
   "name": "python2"
  },
  "language_info": {
   "codemirror_mode": {
    "name": "ipython",
    "version": 2
   },
   "file_extension": ".py",
   "mimetype": "text/x-python",
   "name": "python",
   "nbconvert_exporter": "python",
   "pygments_lexer": "ipython2",
   "version": "2.7.15"
  }
 },
 "nbformat": 4,
 "nbformat_minor": 2
}
