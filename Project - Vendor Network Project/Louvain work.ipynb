{
 "cells": [
  {
   "cell_type": "code",
   "execution_count": 3,
   "metadata": {},
   "outputs": [],
   "source": [
    "# import snap\n",
    "import networkx as nx\n",
    "import community\n",
    "import matplotlib.pyplot as plt\n",
    "import seaborn as sns\n",
    "import csv\n",
    "from collections import Counter, defaultdict\n",
    "import numpy as np\n",
    "import pandas as pd\n",
    "import json"
   ]
  },
  {
   "cell_type": "code",
   "execution_count": 4,
   "metadata": {},
   "outputs": [],
   "source": [
    "with open('shorter_edgelist.csv', 'rb') as file:\n",
    "    Big = nx.read_weighted_edgelist(file, delimiter='~')"
   ]
  },
  {
   "cell_type": "markdown",
   "metadata": {},
   "source": [
    "#### Node attribute (Which awards)"
   ]
  },
  {
   "cell_type": "code",
   "execution_count": 6,
   "metadata": {},
   "outputs": [],
   "source": [
    "with open('node_attr1.csv', 'r') as file:\n",
    "    reader = csv.reader(file)\n",
    "    next(reader)\n",
    "    node_attributes = defaultdict(dict)\n",
    "    for row in reader:\n",
    "        if int(row[1]) > 0:\n",
    "            node_attributes[row[0]]['NIH'] = 1\n",
    "        else:\n",
    "            node_attributes[row[0]]['NIH'] = 0\n",
    "        if int(row[2]) > 0:\n",
    "            node_attributes[row[0]]['NSF'] = 1\n",
    "        else:\n",
    "            node_attributes[row[0]]['NSF'] = 0\n",
    "        if int(row[3]) > 0:\n",
    "            node_attributes[row[0]]['USDA'] = 1\n",
    "        else:\n",
    "            node_attributes[row[0]]['USDA'] = 0"
   ]
  },
  {
   "cell_type": "code",
   "execution_count": 7,
   "metadata": {},
   "outputs": [],
   "source": [
    "with open('institution_attr1.csv', 'r') as file:\n",
    "    reader = csv.reader(file, delimiter = ',')\n",
    "    next(reader)\n",
    "    univlist = set()\n",
    "    for row in reader:\n",
    "        univlist.add(int(row[1]))\n",
    "    univ_table = {x:0 for x in univlist}\n",
    "    \n",
    "with open('institution_attr1.csv', 'r') as file:\n",
    "    reader = csv.reader(file, delimiter = ',')\n",
    "    next(reader)\n",
    "    node_attributes2 = {}\n",
    "    for row in reader:\n",
    "        if row[0] not in node_attributes2:\n",
    "            node_attributes2[row[0]] = univ_table.copy()\n",
    "        node_attributes2[row[0]][int(row[1])] = 1"
   ]
  },
  {
   "cell_type": "code",
   "execution_count": 8,
   "metadata": {},
   "outputs": [],
   "source": [
    "nx.set_node_attributes(Big, node_attributes)\n",
    "nx.set_node_attributes(Big, node_attributes2)"
   ]
  },
  {
   "cell_type": "code",
   "execution_count": 9,
   "metadata": {},
   "outputs": [],
   "source": [
    "BigLCC = Big.subgraph(max(nx.connected_components(Big), key=len))"
   ]
  },
  {
   "cell_type": "code",
   "execution_count": 10,
   "metadata": {},
   "outputs": [
    {
     "name": "stdout",
     "output_type": "stream",
     "text": [
      "Name: \n",
      "Type: Graph\n",
      "Number of nodes: 44774\n",
      "Number of edges: 1263365\n",
      "Average degree:  56.4330\n"
     ]
    }
   ],
   "source": [
    "print(nx.info(BigLCC))"
   ]
  },
  {
   "cell_type": "code",
   "execution_count": null,
   "metadata": {
    "collapsed": true
   },
   "outputs": [],
   "source": [
    "b_average_clust = nx.average_clustering(BigLCC)\n",
    "    \n",
    "b_node = BigLCC.number_of_nodes()\n",
    "\n",
    "b_cent = nx.degree(BigLCC)\n",
    "b_maxcent = max([a[1] for a in b_cent])\n",
    "b_freeman = sum([b_maxcent-a[1] for a in b_cent])/((BigLCC.number_of_nodes()-1)*(BigLCC.number_of_nodes()-2))\n",
    "\n",
    "b_averagedeg = sum(dict(BigLCC.degree()).values())/b_node\n",
    "\n",
    "#BigLCC total: Average degree, freeman, average clustering\n",
    "BigLCC_describe = (b_averagedeg, b_freeman, b_average_clust)\n",
    "#(56.43297449412606, 0.169296352950428, 0.7499335281452727)"
   ]
  },
  {
   "cell_type": "code",
   "execution_count": null,
   "metadata": {
    "collapsed": true
   },
   "outputs": [],
   "source": [
    "BigLCC_describe"
   ]
  },
  {
   "cell_type": "code",
   "execution_count": 32,
   "metadata": {},
   "outputs": [],
   "source": [
    "ground_truth = {}\n",
    "\n",
    "ground_truth['exclusive_nsf'] = list(filter(lambda x: (x[1]['NSF'] >= 1 and x[1]['NIH']==0 and x[1]['USDA']==0), BigLCC.nodes(data=True)))\n",
    "ground_truth['exclusive_nih'] = list(filter(lambda x: (x[1]['NSF'] ==0 and x[1]['NIH']>= 1 and x[1]['USDA']==0), BigLCC.nodes(data=True)))\n",
    "ground_truth['exclusive_usda'] = list(filter(lambda x: (x[1]['NSF']==0 and x[1]['NIH']==0 and x[1]['USDA']>= 1), BigLCC.nodes(data=True)))\n",
    "\n",
    "ground_truth['combo_nsf_nih'] = list(filter(lambda x: (x[1]['NSF']>= 1 and x[1]['NIH']>= 1 and x[1]['USDA']== 0), BigLCC.nodes(data=True)))\n",
    "ground_truth['combo_nsf_usda'] = list(filter(lambda x: (x[1]['NSF']>= 1 and x[1]['NIH']==0 and x[1]['USDA']>= 1), BigLCC.nodes(data=True)))\n",
    "ground_truth['combo_nih_usda'] = list(filter(lambda x: (x[1]['NSF']==0 and x[1]['NIH']>= 1 and x[1]['USDA']>= 1), BigLCC.nodes(data=True)))\n",
    "\n",
    "ground_truth['serve_all'] = list(filter(lambda x: (x[1]['NSF']>= 1 and x[1]['NIH']>= 1 and x[1]['USDA']>= 1), BigLCC.nodes(data=True)))\n",
    "ground_truth['serve_other'] = list(filter(lambda x: (x[1]['NSF']==0 and x[1]['NIH']==0 and x[1]['USDA']== 0), BigLCC.nodes(data=True)))\n",
    "\n",
    "ground_truth['serve_nsf'] = list(filter(lambda x: (x[1]['NSF'] >= 1), BigLCC.nodes(data=True)))\n",
    "ground_truth['serve_nih'] = list(filter(lambda x: (x[1]['NIH']>= 1 ), BigLCC.nodes(data=True)))\n",
    "ground_truth['serve_usda'] = list(filter(lambda x: (x[1]['USDA']>= 1), BigLCC.nodes(data=True)))\n",
    "\n",
    "ground_truth['serve_nsf_nih'] = list(filter(lambda x: (x[1]['NSF']>= 1 and x[1]['NIH']>= 1 ), BigLCC.nodes(data=True)))\n",
    "ground_truth['serve_nsf_usda'] = list(filter(lambda x: (x[1]['NSF']>= 1 and x[1]['USDA']>= 1), BigLCC.nodes(data=True)))\n",
    "ground_truth['serve_nih_usda'] = list(filter(lambda x: (x[1]['NIH']>= 1 and x[1]['USDA']>= 1), BigLCC.nodes(data=True)))"
   ]
  },
  {
   "cell_type": "code",
   "execution_count": 33,
   "metadata": {},
   "outputs": [],
   "source": [
    "ground_truth_single_attr = defaultdict(list)\n",
    "list_of_node_attr = BigLCC.node[list(BigLCC.nodes())[0]].keys()\n",
    "\n",
    "for attr in list_of_node_attr:\n",
    "    for node in list(BigLCC.nodes()):\n",
    "        if BigLCC.node[node][attr] >= 1:\n",
    "            ground_truth_single_attr[attr].append(node)"
   ]
  },
  {
   "cell_type": "markdown",
   "metadata": {},
   "source": [
    "### Louvain Modularity Community detection"
   ]
  },
  {
   "cell_type": "code",
   "execution_count": 46,
   "metadata": {},
   "outputs": [],
   "source": [
    "partition = community.best_partition(BigLCC, randomize=False, random_state=15)\n",
    "dend = community.generate_dendrogram(BigLCC)"
   ]
  },
  {
   "cell_type": "code",
   "execution_count": 64,
   "metadata": {
    "collapsed": true
   },
   "outputs": [],
   "source": [
    "with open('louvain_results.txt', 'w') as file:\n",
    "    file.write(json.dumps(partition))"
   ]
  },
  {
   "cell_type": "code",
   "execution_count": 18,
   "metadata": {},
   "outputs": [],
   "source": [
    "with open('louvain_results.txt', 'r') as file:\n",
    "    partition = json.loads(file.read())"
   ]
  },
  {
   "cell_type": "code",
   "execution_count": 19,
   "metadata": {},
   "outputs": [
    {
     "data": {
      "text/plain": [
       "120"
      ]
     },
     "execution_count": 19,
     "metadata": {},
     "output_type": "execute_result"
    }
   ],
   "source": [
    "mostcom = Counter(partition.values())\n",
    "len(mostcom.keys())"
   ]
  },
  {
   "cell_type": "code",
   "execution_count": 20,
   "metadata": {},
   "outputs": [
    {
     "data": {
      "text/plain": [
       "0.4912689254258832"
      ]
     },
     "execution_count": 20,
     "metadata": {},
     "output_type": "execute_result"
    }
   ],
   "source": [
    "community.modularity(partition, BigLCC)"
   ]
  },
  {
   "cell_type": "code",
   "execution_count": 21,
   "metadata": {},
   "outputs": [
    {
     "data": {
      "text/plain": [
       "dict_keys([0, 1, 2, 3, 4, 5, 6, 7, 8, 9, 10, 11, 12, 13, 14, 15, 16, 17, 18, 19, 20, 21, 22, 23, 24, 25, 26, 27, 28, 29, 30, 31, 32, 33, 34, 35, 36, 37, 38, 39, 40, 41, 42, 43, 44, 45, 46, 47, 48, 49, 50, 51, 52, 53, 54, 55, 56, 57, 58, 59, 60, 61, 62, 63, 64, 65, 66, 67, 68, 69, 70, 71, 72, 73, 74, 75, 76, 77, 78, 79, 80, 81, 82, 83, 84, 85, 86, 87, 88, 89, 90, 91, 92, 93, 94, 95, 96, 97, 98, 99, 100, 101, 102, 103, 104, 105, 106, 107, 108, 109, 110, 111, 112, 113, 114, 115, 116, 117, 118, 119])"
      ]
     },
     "execution_count": 21,
     "metadata": {},
     "output_type": "execute_result"
    }
   ],
   "source": [
    "mostcom.keys()"
   ]
  },
  {
   "cell_type": "code",
   "execution_count": 22,
   "metadata": {},
   "outputs": [],
   "source": [
    "mostcom = Counter(partition.values()).most_common(15)\n",
    "mostcom_communities = [x[0] for x in mostcom if x[1]>1000]"
   ]
  },
  {
   "cell_type": "code",
   "execution_count": 23,
   "metadata": {},
   "outputs": [
    {
     "data": {
      "text/plain": [
       "[8, 4, 1, 0, 3, 6, 7, 5, 15, 9]"
      ]
     },
     "execution_count": 23,
     "metadata": {},
     "output_type": "execute_result"
    }
   ],
   "source": [
    "mostcom_communities"
   ]
  },
  {
   "cell_type": "code",
   "execution_count": 25,
   "metadata": {},
   "outputs": [
    {
     "data": {
      "text/plain": [
       "[(8, 7735),\n",
       " (4, 7560),\n",
       " (1, 5870),\n",
       " (0, 5564),\n",
       " (3, 4336),\n",
       " (6, 2822),\n",
       " (7, 1481),\n",
       " (5, 1218),\n",
       " (15, 1045),\n",
       " (9, 1015)]"
      ]
     },
     "execution_count": 25,
     "metadata": {},
     "output_type": "execute_result"
    }
   ],
   "source": [
    "[x for x in mostcom if x[1]>1000]"
   ]
  },
  {
   "cell_type": "code",
   "execution_count": 29,
   "metadata": {},
   "outputs": [],
   "source": [
    "community_dict = defaultdict(list)\n",
    "\n",
    "for x in partition.keys():\n",
    "    community_dict[partition[x]].append(x)"
   ]
  },
  {
   "cell_type": "code",
   "execution_count": 30,
   "metadata": {},
   "outputs": [
    {
     "data": {
      "text/plain": [
       "0.8637135705345969"
      ]
     },
     "execution_count": 30,
     "metadata": {},
     "output_type": "execute_result"
    }
   ],
   "source": [
    "sum([len(community_dict[x]) for x in mostcom_communities])/44744"
   ]
  },
  {
   "cell_type": "code",
   "execution_count": 34,
   "metadata": {},
   "outputs": [
    {
     "name": "stdout",
     "output_type": "stream",
     "text": [
      "Evaluating exclusive_nsf\n",
      "New maximum found: Partition 0, with 670 common nodes out of 7460 (0.08981233243967829)\n",
      "New maximum found: Partition 3, with 1099 common nodes out of 7460 (0.1473190348525469)\n",
      "New maximum found: Partition 8, with 2128 common nodes out of 7460 (0.285254691689008)\n",
      "Evaluating exclusive_nih\n",
      "New maximum found: Partition 0, with 2373 common nodes out of 13132 (0.18070362473347548)\n",
      "New maximum found: Partition 1, with 3006 common nodes out of 13132 (0.22890648796832166)\n",
      "Evaluating exclusive_usda\n",
      "New maximum found: Partition 0, with 43 common nodes out of 1728 (0.02488425925925926)\n",
      "New maximum found: Partition 1, with 52 common nodes out of 1728 (0.03009259259259259)\n",
      "New maximum found: Partition 2, with 122 common nodes out of 1728 (0.07060185185185185)\n",
      "New maximum found: Partition 3, with 449 common nodes out of 1728 (0.25983796296296297)\n",
      "Evaluating combo_nsf_nih\n",
      "New maximum found: Partition 0, with 1372 common nodes out of 6309 (0.21746711047709621)\n",
      "Evaluating combo_nsf_usda\n",
      "New maximum found: Partition 0, with 24 common nodes out of 681 (0.03524229074889868)\n",
      "New maximum found: Partition 1, with 48 common nodes out of 681 (0.07048458149779736)\n",
      "New maximum found: Partition 3, with 147 common nodes out of 681 (0.21585903083700442)\n",
      "New maximum found: Partition 4, with 159 common nodes out of 681 (0.23348017621145375)\n",
      "New maximum found: Partition 8, with 202 common nodes out of 681 (0.2966226138032305)\n",
      "Evaluating combo_nih_usda\n",
      "New maximum found: Partition 0, with 68 common nodes out of 822 (0.0827250608272506)\n",
      "New maximum found: Partition 1, with 153 common nodes out of 822 (0.18613138686131386)\n",
      "New maximum found: Partition 4, with 233 common nodes out of 822 (0.28345498783454987)\n",
      "Evaluating serve_all\n",
      "New maximum found: Partition 0, with 333 common nodes out of 3043 (0.10943148209004272)\n",
      "New maximum found: Partition 1, with 573 common nodes out of 3043 (0.18830101873151495)\n",
      "New maximum found: Partition 4, with 896 common nodes out of 3043 (0.294446270128163)\n",
      "Evaluating serve_other\n",
      "New maximum found: Partition 0, with 681 common nodes out of 11599 (0.058711957927407535)\n",
      "New maximum found: Partition 1, with 705 common nodes out of 11599 (0.060781101819122337)\n",
      "New maximum found: Partition 3, with 1355 common nodes out of 11599 (0.11682041555306492)\n",
      "New maximum found: Partition 4, with 1650 common nodes out of 11599 (0.14225364255539272)\n",
      "New maximum found: Partition 8, with 2875 common nodes out of 11599 (0.24786619536166912)\n",
      "Evaluating serve_nsf\n",
      "New maximum found: Partition 0, with 2399 common nodes out of 17493 (0.13714057051391984)\n",
      "New maximum found: Partition 4, with 3354 common nodes out of 17493 (0.19173383639169952)\n",
      "Evaluating serve_nih\n",
      "New maximum found: Partition 0, with 4146 common nodes out of 23306 (0.17789410452244056)\n",
      "New maximum found: Partition 1, with 4740 common nodes out of 23306 (0.20338110357847763)\n",
      "Evaluating serve_usda\n",
      "New maximum found: Partition 0, with 468 common nodes out of 6274 (0.07459356072680905)\n",
      "New maximum found: Partition 1, with 826 common nodes out of 6274 (0.13165444692381256)\n",
      "New maximum found: Partition 3, with 931 common nodes out of 6274 (0.1483901817022633)\n",
      "New maximum found: Partition 4, with 1601 common nodes out of 6274 (0.25518010838380617)\n",
      "Evaluating serve_nsf_nih\n",
      "New maximum found: Partition 0, with 1705 common nodes out of 9352 (0.18231394354148844)\n",
      "New maximum found: Partition 4, with 2178 common nodes out of 9352 (0.23289136013686912)\n",
      "Evaluating serve_nsf_usda\n",
      "New maximum found: Partition 0, with 357 common nodes out of 3724 (0.09586466165413533)\n",
      "New maximum found: Partition 1, with 621 common nodes out of 3724 (0.1667561761546724)\n",
      "New maximum found: Partition 4, with 1055 common nodes out of 3724 (0.28329752953813103)\n",
      "Evaluating serve_nih_usda\n",
      "New maximum found: Partition 0, with 401 common nodes out of 3865 (0.103751617076326)\n",
      "New maximum found: Partition 1, with 726 common nodes out of 3865 (0.18783958602846054)\n",
      "New maximum found: Partition 4, with 1129 common nodes out of 3865 (0.29210866752910736)\n"
     ]
    }
   ],
   "source": [
    "## Compare each partition to ground_truth, to see if any are similar to ground\n",
    "partition_max = {}\n",
    "\n",
    "for truth in ground_truth.keys():\n",
    "    print('Evaluating {}'.format(truth))\n",
    "    true_community = set([x[0] for x in ground_truth[truth]])\n",
    "    len_true = len(true_community)\n",
    "    maxsame = 0\n",
    "    \n",
    "    for x in community_dict.keys():\n",
    "        louvain_comm = set(community_dict[x])\n",
    "        \n",
    "        number_same = len(true_community.intersection(louvain_comm))\n",
    "        if number_same > maxsame:\n",
    "            maxsame = number_same\n",
    "            partition_max[truth] = (x, number_same)\n",
    "            frac = number_same/len_true\n",
    "            print('New maximum found: Partition {}, with {} common nodes out of {} ({})'.format(x, number_same, len_true, frac))"
   ]
  },
  {
   "cell_type": "code",
   "execution_count": 36,
   "metadata": {},
   "outputs": [],
   "source": [
    "node_attribute_by_cluster = defaultdict(dict)\n",
    "\n",
    "for x in community_dict.keys():\n",
    "    subgraph = BigLCC.subgraph(community_dict[x])\n",
    "    tot_nodes = subgraph.number_of_nodes()\n",
    "    \n",
    "    for attr in list_of_node_attr:\n",
    "        node_attribute_by_cluster[x][attr] = Counter(nx.get_node_attributes(subgraph, attr).values())\n",
    "        nodes_w_attr = node_attribute_by_cluster[x][attr][1]\n",
    "        node_attribute_by_cluster[x][attr] = (nodes_w_attr/tot_nodes, nodes_w_attr/len(ground_truth_single_attr[attr]))"
   ]
  },
  {
   "cell_type": "code",
   "execution_count": 37,
   "metadata": {},
   "outputs": [
    {
     "data": {
      "text/plain": [
       "{'exclusive_nsf': (8, 2128),\n",
       " 'exclusive_nih': (1, 3006),\n",
       " 'exclusive_usda': (3, 449),\n",
       " 'combo_nsf_nih': (0, 1372),\n",
       " 'combo_nsf_usda': (8, 202),\n",
       " 'combo_nih_usda': (4, 233),\n",
       " 'serve_all': (4, 896),\n",
       " 'serve_other': (8, 2875),\n",
       " 'serve_nsf': (4, 3354),\n",
       " 'serve_nih': (1, 4740),\n",
       " 'serve_usda': (4, 1601),\n",
       " 'serve_nsf_nih': (4, 2178),\n",
       " 'serve_nsf_usda': (4, 1055),\n",
       " 'serve_nih_usda': (4, 1129)}"
      ]
     },
     "execution_count": 37,
     "metadata": {},
     "output_type": "execute_result"
    }
   ],
   "source": [
    "partition_max"
   ]
  },
  {
   "cell_type": "code",
   "execution_count": 38,
   "metadata": {},
   "outputs": [
    {
     "data": {
      "text/plain": [
       "{'NIH': (0.6909992912827781, 0.08366944134557625),\n",
       " 'NSF': (0.6247342310418144, 0.10078317041102156),\n",
       " 'USDA': (0.1428065201984408, 0.06423334395919668),\n",
       " 9730: (0.10595322466335932, 0.13709307657038056),\n",
       " 45700: (0.1708008504606662, 0.11567074634029277),\n",
       " 22165: (0.17753366406803686, 0.0844144903117102),\n",
       " 14105: (0.18072289156626506, 0.16569200779727095),\n",
       " 74915: (0.11587526576895818, 0.15202231520223153),\n",
       " 10151: (0.08008504606661943, 0.12424409015942826),\n",
       " 77480: (0.16335931963146705, 0.11606243705941591),\n",
       " 10161: (0.1952515946137491, 0.09721242060691603),\n",
       " 20150: (0.16335931963146705, 0.09264469453376206),\n",
       " 12090: (0.24167257264351524, 0.11057068741893644),\n",
       " 10171: (0.148830616583983, 0.12883435582822086),\n",
       " 11584: (0.060240963855421686, 0.09518477043673013),\n",
       " 27201: (0.1403260099220411, 0.04004449388209121),\n",
       " 10181: (0.05350815024805103, 0.07291163689039111),\n",
       " 27591: (0.04677533664068037, 0.14915254237288136),\n",
       " 87501: (0.13855421686746988, 0.16271327507282562),\n",
       " 10191: (0.057406094968107724, 0.16119402985074627),\n",
       " 22480: (0.06130403968816442, 0.10291493158834028),\n",
       " 26195: (0.24592487597448617, 0.15910132966529114),\n",
       " 11479: (0.09425939050318922, 0.13578356304236855),\n",
       " 10075: (0.28100637845499643, 0.11590178310435545),\n",
       " 23402: (0.6665485471296952, 0.6023054755043228),\n",
       " 23790: (0.12012756909992912, 0.1805111821086262),\n",
       " 38770: (0.09815733522324592, 0.09695484774238712),\n",
       " 8060: (0.20481927710843373, 0.223338485316847)}"
      ]
     },
     "execution_count": 38,
     "metadata": {},
     "output_type": "execute_result"
    }
   ],
   "source": [
    "# [8, 4, 1, 0, 3, 6, 7, 5, 15, 9]\n",
    "node_attribute_by_cluster[6]"
   ]
  },
  {
   "cell_type": "code",
   "execution_count": 39,
   "metadata": {},
   "outputs": [],
   "source": [
    "bargraph = defaultdict(list)\n",
    "bargraph2 = defaultdict(list)\n",
    "\n",
    "for attr in list_of_node_attr:\n",
    "    for community in mostcom_communities:\n",
    "        bargraph[attr].append((community, node_attribute_by_cluster[community][attr][1]))\n",
    "        bargraph2[attr].append((community, node_attribute_by_cluster[community][attr][0]))\n",
    "    remainder = 1 - sum([x[1] for x in bargraph[attr]])\n",
    "    bargraph[attr].append(('Smaller communities', remainder ))"
   ]
  },
  {
   "cell_type": "code",
   "execution_count": 40,
   "metadata": {},
   "outputs": [
    {
     "data": {
      "text/plain": [
       "[('NIH', 8, 0.28002585649644474),\n",
       " ('NIH', 4, 0.5847883597883597),\n",
       " ('NIH', 1, 0.807495741056218),\n",
       " ('NIH', 0, 0.7451473759884975),\n",
       " ('NIH', 3, 0.2965867158671587),\n",
       " ('NIH', 6, 0.6909992912827781),\n",
       " ('NIH', 7, 0.49358541525995947),\n",
       " ('NIH', 5, 0.8456486042692939),\n",
       " ('NIH', 15, 0.5148325358851674),\n",
       " ('NIH', 9, 0.33399014778325126),\n",
       " ('NSF', 8, 0.3994828700711054),\n",
       " ('NSF', 4, 0.44365079365079363),\n",
       " ('NSF', 1, 0.33287904599659285),\n",
       " ('NSF', 0, 0.4311646297627606),\n",
       " ('NSF', 3, 0.4188191881918819),\n",
       " ('NSF', 6, 0.6247342310418144),\n",
       " ('NSF', 7, 0.27076299797434167),\n",
       " ('NSF', 5, 0.4072249589490969),\n",
       " ('NSF', 15, 0.23923444976076555),\n",
       " ('NSF', 9, 0.20591133004926107),\n",
       " ('USDA', 8, 0.12527472527472527),\n",
       " ('USDA', 4, 0.21177248677248678),\n",
       " ('USDA', 1, 0.14071550255536627),\n",
       " ('USDA', 0, 0.08411214953271028),\n",
       " ('USDA', 3, 0.2147140221402214),\n",
       " ('USDA', 6, 0.1428065201984408),\n",
       " ('USDA', 7, 0.05739365293720459),\n",
       " ('USDA', 5, 0.05829228243021346),\n",
       " ('USDA', 15, 0.0660287081339713),\n",
       " ('USDA', 9, 0.09655172413793103),\n",
       " (9730, 8, 0.00904977375565611),\n",
       " (9730, 4, 0.16772486772486772),\n",
       " (9730, 1, 0.03594548551959114),\n",
       " (9730, 0, 0.02192667145938174),\n",
       " (9730, 3, 0.007149446494464945),\n",
       " (9730, 6, 0.10595322466335932),\n",
       " (9730, 7, 0.008102633355840648),\n",
       " (9730, 5, 0.06568144499178982),\n",
       " (9730, 15, 0.004784688995215311),\n",
       " (9730, 9, 0.0049261083743842365),\n",
       " (45700, 8, 0.014996767937944409),\n",
       " (45700, 4, 0.03558201058201058),\n",
       " (45700, 1, 0.39148211243611586),\n",
       " (45700, 0, 0.04511143062544932),\n",
       " (45700, 3, 0.01522140221402214),\n",
       " (45700, 6, 0.1708008504606662),\n",
       " (45700, 7, 0.017555705604321403),\n",
       " (45700, 5, 0.05008210180623974),\n",
       " (45700, 15, 0.022966507177033493),\n",
       " (45700, 9, 0.017733990147783252),\n",
       " (22165, 8, 0.014867485455720749),\n",
       " (22165, 4, 0.046296296296296294),\n",
       " (22165, 1, 0.0959114139693356),\n",
       " (22165, 0, 0.6121495327102804),\n",
       " (22165, 3, 0.029750922509225092),\n",
       " (22165, 6, 0.17753366406803686),\n",
       " (22165, 7, 0.031060094530722483),\n",
       " (22165, 5, 0.027093596059113302),\n",
       " (22165, 15, 0.021052631578947368),\n",
       " (22165, 9, 0.02561576354679803),\n",
       " (14105, 8, 0.017970265029088557),\n",
       " (14105, 4, 0.04510582010582011),\n",
       " (14105, 1, 0.19250425894378195),\n",
       " (14105, 0, 0.04708842559309849),\n",
       " (14105, 3, 0.024907749077490774),\n",
       " (14105, 6, 0.18072289156626506),\n",
       " (14105, 7, 0.02363268062120189),\n",
       " (14105, 5, 0.041050903119868636),\n",
       " (14105, 15, 0.01818181818181818),\n",
       " (14105, 9, 0.034482758620689655),\n",
       " (74915, 8, 0.007110536522301228),\n",
       " (74915, 4, 0.016005291005291005),\n",
       " (74915, 1, 0.2090289608177172),\n",
       " (74915, 0, 0.0296549245147376),\n",
       " (74915, 3, 0.01268450184501845),\n",
       " (74915, 6, 0.11587526576895818),\n",
       " (74915, 7, 0.012153950033760972),\n",
       " (74915, 5, 0.020525451559934318),\n",
       " (74915, 15, 0.007655502392344498),\n",
       " (74915, 9, 0.014778325123152709),\n",
       " (10151, 8, 0.009179056237879768),\n",
       " (10151, 4, 0.018783068783068783),\n",
       " (10151, 1, 0.04838160136286201),\n",
       " (10151, 0, 0.026419841840402587),\n",
       " (10151, 3, 0.015913284132841328),\n",
       " (10151, 6, 0.08008504606661943),\n",
       " (10151, 7, 0.010803511141120865),\n",
       " (10151, 5, 0.0090311986863711),\n",
       " (10151, 15, 0.03253588516746411),\n",
       " (10151, 9, 0.007881773399014778),\n",
       " (77480, 8, 0.04809308338720104),\n",
       " (77480, 4, 0.16177248677248676),\n",
       " (77480, 1, 0.08006814310051108),\n",
       " (77480, 0, 0.05212077641984184),\n",
       " (77480, 3, 0.0117619926199262),\n",
       " (77480, 6, 0.16335931963146705),\n",
       " (77480, 7, 0.018906144496961513),\n",
       " (77480, 5, 0.6715927750410509),\n",
       " (77480, 15, 0.011483253588516746),\n",
       " (77480, 9, 0.014778325123152709),\n",
       " (10161, 8, 0.025856496444731737),\n",
       " (10161, 4, 0.42738095238095236),\n",
       " (10161, 1, 0.12197614991482113),\n",
       " (10161, 0, 0.07189072609633357),\n",
       " (10161, 3, 0.0235239852398524),\n",
       " (10161, 6, 0.1952515946137491),\n",
       " (10161, 7, 0.04726536124240378),\n",
       " (10161, 5, 0.05172413793103448),\n",
       " (10161, 15, 0.011483253588516746),\n",
       " (10161, 9, 0.019704433497536946),\n",
       " (20150, 8, 0.016289592760180997),\n",
       " (20150, 4, 0.38346560846560845),\n",
       " (20150, 1, 0.09744463373083476),\n",
       " (20150, 0, 0.08752695902228612),\n",
       " (20150, 3, 0.016605166051660517),\n",
       " (20150, 6, 0.16335931963146705),\n",
       " (20150, 7, 0.024307900067521943),\n",
       " (20150, 5, 0.06157635467980296),\n",
       " (20150, 15, 0.020095693779904306),\n",
       " (20150, 9, 0.01083743842364532),\n",
       " (12090, 8, 0.015126050420168067),\n",
       " (12090, 4, 0.04113756613756614),\n",
       " (12090, 1, 0.07120954003407155),\n",
       " (12090, 0, 0.037203450754852624),\n",
       " (12090, 3, 0.8950645756457565),\n",
       " (12090, 6, 0.24167257264351524),\n",
       " (12090, 7, 0.027683997299122215),\n",
       " (12090, 5, 0.022988505747126436),\n",
       " (12090, 15, 0.012440191387559809),\n",
       " (12090, 9, 0.023645320197044337),\n",
       " (10171, 8, 0.013703943115707821),\n",
       " (10171, 4, 0.028835978835978836),\n",
       " (10171, 1, 0.09829642248722317),\n",
       " (10171, 0, 0.04601006470165349),\n",
       " (10171, 3, 0.025138376383763837),\n",
       " (10171, 6, 0.148830616583983),\n",
       " (10171, 7, 0.9277515192437542),\n",
       " (10171, 5, 0.025451559934318555),\n",
       " (10171, 15, 0.0066985645933014355),\n",
       " (10171, 9, 0.008866995073891626),\n",
       " (11584, 8, 0.00982546864899806),\n",
       " (11584, 4, 0.014021164021164021),\n",
       " (11584, 1, 0.029471890971039184),\n",
       " (11584, 0, 0.1985981308411215),\n",
       " (11584, 3, 0.005304428044280443),\n",
       " (11584, 6, 0.060240963855421686),\n",
       " (11584, 7, 0.0054017555705604325),\n",
       " (11584, 5, 0.006568144499178982),\n",
       " (11584, 15, 0.0009569377990430622),\n",
       " (11584, 9, 0.02167487684729064),\n",
       " (27201, 8, 0.9353587588881707),\n",
       " (27201, 4, 0.05925925925925926),\n",
       " (27201, 1, 0.08364565587734242),\n",
       " (27201, 0, 0.05050323508267433),\n",
       " (27201, 3, 0.019142066420664208),\n",
       " (27201, 6, 0.1403260099220411),\n",
       " (27201, 7, 0.024307900067521943),\n",
       " (27201, 5, 0.10098522167487685),\n",
       " (27201, 15, 0.012440191387559809),\n",
       " (27201, 9, 0.014778325123152709),\n",
       " (10181, 8, 0.006464124111182934),\n",
       " (10181, 4, 0.01984126984126984),\n",
       " (10181, 1, 0.03594548551959114),\n",
       " (10181, 0, 0.01240115025161754),\n",
       " (10181, 3, 0.027444649446494464),\n",
       " (10181, 6, 0.05350815024805103),\n",
       " (10181, 7, 0.05266711681296422),\n",
       " (10181, 5, 0.007389162561576354),\n",
       " (10181, 15, 0.010526315789473684),\n",
       " (10181, 9, 0.12118226600985221),\n",
       " (27591, 8, 0.004524886877828055),\n",
       " (27591, 4, 0.012698412698412698),\n",
       " (27591, 1, 0.04003407155025554),\n",
       " (27591, 0, 0.014917325664989217),\n",
       " (27591, 3, 0.019603321033210334),\n",
       " (27591, 6, 0.04677533664068037),\n",
       " (27591, 7, 0.008102633355840648),\n",
       " (27591, 5, 0.0090311986863711),\n",
       " (27591, 15, 0.003827751196172249),\n",
       " (27591, 9, 0.002955665024630542),\n",
       " (87501, 8, 0.012152553329023917),\n",
       " (87501, 4, 0.04060846560846561),\n",
       " (87501, 1, 0.1594548551959114),\n",
       " (87501, 0, 0.041696621135873475),\n",
       " (87501, 3, 0.017527675276752766),\n",
       " (87501, 6, 0.13855421686746988),\n",
       " (87501, 7, 0.017555705604321403),\n",
       " (87501, 5, 0.014778325123152709),\n",
       " (87501, 15, 0.010526315789473684),\n",
       " (87501, 9, 0.017733990147783252),\n",
       " (10191, 8, 0.0031027795733678085),\n",
       " (10191, 4, 0.008597883597883597),\n",
       " (10191, 1, 0.027257240204429302),\n",
       " (10191, 0, 0.01779295470884256),\n",
       " (10191, 3, 0.00253690036900369),\n",
       " (10191, 6, 0.057406094968107724),\n",
       " (10191, 7, 0.004051316677920324),\n",
       " (10191, 5, 0.35467980295566504),\n",
       " (10191, 15, 0.004784688995215311),\n",
       " (10191, 9, 0.002955665024630542),\n",
       " (22480, 8, 0.005817711700064641),\n",
       " (22480, 4, 0.009523809523809525),\n",
       " (22480, 1, 0.04838160136286201),\n",
       " (22480, 0, 0.018871315600287562),\n",
       " (22480, 3, 0.009455719557195572),\n",
       " (22480, 6, 0.06130403968816442),\n",
       " (22480, 7, 0.006076975016880486),\n",
       " (22480, 5, 0.011494252873563218),\n",
       " (22480, 15, 0.004784688995215311),\n",
       " (22480, 9, 0.8226600985221675),\n",
       " (26195, 8, 0.02262443438914027),\n",
       " (26195, 4, 0.06296296296296296),\n",
       " (26195, 1, 0.15298126064735945),\n",
       " (26195, 0, 0.04762760603882099),\n",
       " (26195, 3, 0.029981549815498155),\n",
       " (26195, 6, 0.24592487597448617),\n",
       " (26195, 7, 0.02228224172856178),\n",
       " (26195, 5, 0.035303776683087026),\n",
       " (26195, 15, 0.9578947368421052),\n",
       " (26195, 9, 0.033497536945812804),\n",
       " (11479, 8, 0.006076276664511959),\n",
       " (11479, 4, 0.019312169312169312),\n",
       " (11479, 1, 0.03850085178875639),\n",
       " (11479, 0, 0.06290438533429188),\n",
       " (11479, 3, 0.010839483394833949),\n",
       " (11479, 6, 0.09425939050318922),\n",
       " (11479, 7, 0.00675219446320054),\n",
       " (11479, 5, 0.009852216748768473),\n",
       " (11479, 15, 0.0066985645933014355),\n",
       " (11479, 9, 0.0019704433497536944),\n",
       " (10075, 8, 0.03619909502262444),\n",
       " (10075, 4, 0.4958994708994709),\n",
       " (10075, 1, 0.14429301533219763),\n",
       " (10075, 0, 0.07818116462976277),\n",
       " (10075, 3, 0.0426660516605166),\n",
       " (10075, 6, 0.28100637845499643),\n",
       " (10075, 7, 0.0337609723160027),\n",
       " (10075, 5, 0.08456486042692939),\n",
       " (10075, 15, 0.01818181818181818),\n",
       " (10075, 9, 0.0187192118226601),\n",
       " (23402, 8, 0.010342598577892695),\n",
       " (23402, 4, 0.027248677248677248),\n",
       " (23402, 1, 0.0737649063032368),\n",
       " (23402, 0, 0.03414809489575845),\n",
       " (23402, 3, 0.020756457564575646),\n",
       " (23402, 6, 0.6665485471296952),\n",
       " (23402, 7, 0.015530047265361242),\n",
       " (23402, 5, 0.041050903119868636),\n",
       " (23402, 15, 0.005741626794258373),\n",
       " (23402, 9, 0.024630541871921183),\n",
       " (23790, 8, 0.004524886877828055),\n",
       " (23790, 4, 0.016005291005291005),\n",
       " (23790, 1, 0.1555366269165247),\n",
       " (23790, 0, 0.026240115025161753),\n",
       " (23790, 3, 0.00761070110701107),\n",
       " (23790, 6, 0.12012756909992912),\n",
       " (23790, 7, 0.008102633355840648),\n",
       " (23790, 5, 0.015599343185550082),\n",
       " (23790, 15, 0.0028708133971291866),\n",
       " (23790, 9, 0.015763546798029555),\n",
       " (38770, 8, 0.012928248222365869),\n",
       " (38770, 4, 0.05013227513227513),\n",
       " (38770, 1, 0.05877342419080068),\n",
       " (38770, 0, 0.17810927390366643),\n",
       " (38770, 3, 0.05488929889298893),\n",
       " (38770, 6, 0.09815733522324592),\n",
       " (38770, 7, 0.016205266711681297),\n",
       " (38770, 5, 0.03940886699507389),\n",
       " (38770, 15, 0.007655502392344498),\n",
       " (38770, 9, 0.007881773399014778),\n",
       " (8060, 8, 0.023141564318034907),\n",
       " (8060, 4, 0.046164021164021164),\n",
       " (8060, 1, 0.141396933560477),\n",
       " (8060, 0, 0.04439252336448598),\n",
       " (8060, 3, 0.029289667896678966),\n",
       " (8060, 6, 0.20481927710843373),\n",
       " (8060, 7, 0.024983119513842),\n",
       " (8060, 5, 0.026272577996715927),\n",
       " (8060, 15, 0.011483253588516746),\n",
       " (8060, 9, 0.0187192118226601)]"
      ]
     },
     "execution_count": 40,
     "metadata": {},
     "output_type": "execute_result"
    }
   ],
   "source": [
    "[(k, *t) for k, v in bargraph.items() for t in v]\n",
    "[(k, *t) for k, v in bargraph2.items() for t in v]"
   ]
  },
  {
   "cell_type": "code",
   "execution_count": 41,
   "metadata": {},
   "outputs": [],
   "source": [
    "%matplotlib inline\n",
    "testpd = pd.DataFrame([(*t, k) for k, v in bargraph.items() for t in v], columns = ['Community', 'Total', 'Agency'])\n",
    "\n",
    "agency = testpd[testpd.Agency.isin(['USDA', 'NSF', 'NIH'])]\n",
    "univ = testpd[testpd.Agency.isin(['USDA', 'NSF', 'NIH']) == False].rename(columns={'Agency':'University ID'})"
   ]
  },
  {
   "cell_type": "code",
   "execution_count": 52,
   "metadata": {},
   "outputs": [],
   "source": [
    "percomm_pd = pd.DataFrame([(*t,k) for k, v in bargraph2.items() for t in v], columns = ['Community', 'Total', 'Agency'])\n",
    "lista = percomm_pd[percomm_pd.Community == 8]\n",
    "listb = lista[lista.Agency.isin(['USDA', 'NSF', 'NIH']) == False].rename(columns={'Agency':'University ID'})\n",
    "listc = percomm_pd[percomm_pd.Agency.isin(['USDA', 'NSF', 'NIH']) == False].rename(columns={'Agency':'University ID'})"
   ]
  },
  {
   "cell_type": "code",
   "execution_count": 43,
   "metadata": {},
   "outputs": [
    {
     "data": {
      "image/png": "[encoded data removed]",
      "text/plain": [
       "<Figure size 864x288 with 1 Axes>"
      ]
     },
     "metadata": {
      "needs_background": "light"
     },
     "output_type": "display_data"
    }
   ],
   "source": [
    "plota = agency.pivot(index = 'Agency', columns='Community').plot.barh(stacked=True, figsize=(12,4), colormap='tab20b', legend=False)\n",
    "# plt.savefig('Top 10 Community representation in agencies.png')"
   ]
  },
  {
   "cell_type": "code",
   "execution_count": 44,
   "metadata": {},
   "outputs": [
    {
     "data": {
      "image/png": "[encoded data removed]",
      "text/plain": [
       "<Figure size 864x1296 with 1 Axes>"
      ]
     },
     "metadata": {
      "needs_background": "light"
     },
     "output_type": "display_data"
    }
   ],
   "source": [
    "plotb = univ.pivot(index = 'University ID', columns='Community').plot.barh(stacked=True, figsize=(12,18), colormap='tab20b', legend=False)\n",
    "# plt.savefig('Top 10 Community representation in universities.png')"
   ]
  },
  {
   "cell_type": "code",
   "execution_count": 45,
   "metadata": {},
   "outputs": [
    {
     "data": {
      "text/plain": [
       "Text(0,0.5,'% of nodes')"
      ]
     },
     "execution_count": 45,
     "metadata": {},
     "output_type": "execute_result"
    },
    {
     "data": {
      "image/png": "[encoded data removed]",
      "text/plain": [
       "<Figure size 648x288 with 1 Axes>"
      ]
     },
     "metadata": {
      "needs_background": "light"
     },
     "output_type": "display_data"
    }
   ],
   "source": [
    "plotc =  listb.pivot(index = 'University ID', columns='Community').plot.bar(legend=False, figsize=(9,4), title='Community 8 (Louvain)')\n",
    "plotc.set_ylabel('% of nodes')\n"
   ]
  },
  {
   "cell_type": "code",
   "execution_count": 54,
   "metadata": {},
   "outputs": [
    {
     "data": {
      "image/png": "[encoded data removed]",
      "text/plain": [
       "<Figure size 1296x432 with 1 Axes>"
      ]
     },
     "metadata": {
      "needs_background": "light"
     },
     "output_type": "display_data"
    }
   ],
   "source": [
    "plotc =  listc.pivot(index = 'University ID', columns='Community').plot.bar(width=0.75, legend=False, figsize=(18,6), title='Louvain Community Node Distribution')\n",
    "plotc.set_ylabel('% of nodes')\n",
    "plt.savefig('Louvain community vs univ.png')"
   ]
  },
  {
   "cell_type": "code",
   "execution_count": 50,
   "metadata": {},
   "outputs": [
    {
     "data": {
      "image/png": "[encoded data removed]",
      "text/plain": [
       "<Figure size 864x216 with 1 Axes>"
      ]
     },
     "metadata": {
      "needs_background": "light"
     },
     "output_type": "display_data"
    }
   ],
   "source": [
    "listd = percomm_pd[percomm_pd.Agency.isin(['USDA', 'NSF', 'NIH']) == True]\n",
    "plotd =  listd.pivot(index = 'Agency', columns='Community').plot.bar(width=0.75, legend=False, figsize=(12,3), title='Louvain Community Node Distribution')\n",
    "plotd.set_ylabel('% of nodes')\n",
    "plt.savefig('Louvain community vs agency.png')"
   ]
  },
  {
   "cell_type": "code",
   "execution_count": 46,
   "metadata": {},
   "outputs": [],
   "source": [
    "desc = {}\n",
    "\n",
    "for x in mostcom_communities:\n",
    "    subg = BigLCC.subgraph(community_dict[x])\n",
    "    average_clust = nx.average_clustering(subg)\n",
    "    \n",
    "    node = subg.number_of_nodes()\n",
    "    \n",
    "    cent = nx.degree(subg)\n",
    "    maxcent = max([a[1] for a in cent])\n",
    "    freeman = sum([maxcent-a[1] for a in cent])/((subg.number_of_nodes()-1)*(subg.number_of_nodes()-2))\n",
    "    \n",
    "    averagedeg = sum(dict(subg.degree()).values())/node\n",
    "    \n",
    "    #Subgraph: Average degree, freeman, average clustering\n",
    "    desc[x] = (node, averagedeg, freeman, average_clust)"
   ]
  },
  {
   "cell_type": "code",
   "execution_count": 47,
   "metadata": {},
   "outputs": [],
   "source": [
    "import json\n",
    "textf = json.dumps(desc)\n",
    "\n",
    "with open('descriptive_louvain_comm.txt', 'w') as textfile:\n",
    "    textfile.write(textf)"
   ]
  },
  {
   "cell_type": "markdown",
   "metadata": {},
   "source": [
    "## Graph"
   ]
  },
  {
   "cell_type": "code",
   "execution_count": null,
   "metadata": {
    "collapsed": true
   },
   "outputs": [],
   "source": [
    "colors = zip(mostcom_communities, sns.color_palette('hls', len(mostcom_communities)))\n",
    "# for x in set(partition.values()):\n",
    "#     if x not in mostcom_communities:\n",
    "#         colors.append((x, 'w'))\n",
    "colors = dict(colors)"
   ]
  },
  {
   "cell_type": "code",
   "execution_count": null,
   "metadata": {
    "collapsed": true
   },
   "outputs": [],
   "source": [
    "plt.figure(figsize=(20, 15))\n",
    "pos = nx.spring_layout(BigLCC)\n",
    "\n",
    "for com in set(partition.values()) :\n",
    "    print(com)\n",
    "    list_nodes = [nodes for nodes in partition.keys() if partition[nodes] == com]\n",
    "nx.draw_networkx_edges(BigLCC, pos, alpha=0.5)\n",
    "plt.axis('off')\n",
    "plt.savefig('Louvain community detection.png')"
   ]
  },
  {
   "cell_type": "code",
   "execution_count": null,
   "metadata": {
    "collapsed": true
   },
   "outputs": [],
   "source": [
    "Copied = BigLCC.copy()\n",
    "for com in set(partition.values()):\n",
    "    list_nodes = [nodes for nodes in partition.keys() if partition[nodes] == com]\n",
    "    if com not in mostcom_communities:\n",
    "        Copied.remove_nodes_from(list_nodes)"
   ]
  },
  {
   "cell_type": "code",
   "execution_count": null,
   "metadata": {
    "collapsed": true
   },
   "outputs": [],
   "source": [
    "print(nx.info(Copied))"
   ]
  },
  {
   "cell_type": "code",
   "execution_count": null,
   "metadata": {
    "collapsed": true
   },
   "outputs": [],
   "source": [
    "plt.figure(figsize=(20, 15))\n",
    "ax = nx.spring_layout(Copied)\n",
    "\n",
    "for com in mostcom_communities:\n",
    "    print(com)\n",
    "    list_nodes = [nodes for nodes in partition.keys() if partition[nodes] == com]\n",
    "    nx.draw_networkx_nodes(Copied, ax, list_nodes, node_size = 20, node_color = colors[com])\n",
    "nx.draw_networkx_edges(Copied, ax, alpha=0.5)\n",
    "plt.axis('off')\n",
    "plt.savefig('Louvain community detection - top communities.png')"
   ]
  },
  {
   "cell_type": "code",
   "execution_count": null,
   "metadata": {
    "collapsed": true
   },
   "outputs": [],
   "source": [
    "plt.figure(figsize=(13, 9))\n",
    "node_size = 25\n",
    "count = 0\n",
    "pos = nx.spring_layout(Copied)\n",
    "colors = dict(zip(communities.keys(), sns.color_palette('hls', len(communities.keys()))))\n",
    "\n",
    "for com in communities.keys():\n",
    "    count = count + 1\n",
    "    list_nodes = [nodes for nodes in partition.keys() if partition[nodes] == com and nodes not in communities.values()]\n",
    "    nx.draw_networkx_nodes(Copied, pos, list_nodes, node_size = node_size, node_color = colors[com])\n",
    "    nx.draw_networkx_nodes(Copied, pos, list([communities[com]]), node_size = node_size*5, node_color = colors[com])\n",
    "nx.draw_networkx_edges(G_main_com, pos, alpha=0.5)\n",
    "labels = {k: str(v) + ': ' + k for k,v in centers.items()}\n",
    "nx.draw_networkx_labels(Copied, pos, labels)\n",
    "plt.axis('off')\n",
    "plt.show()"
   ]
  }
 ],
 "metadata": {
  "kernelspec": {
   "display_name": "Python 3",
   "language": "python",
   "name": "python3"
  },
  "language_info": {
   "codemirror_mode": {
    "name": "ipython",
    "version": 3
   },
   "file_extension": ".py",
   "mimetype": "text/x-python",
   "name": "python",
   "nbconvert_exporter": "python",
   "pygments_lexer": "ipython3",
   "version": "3.6.6"
  }
 },
 "nbformat": 4,
 "nbformat_minor": 2
}
