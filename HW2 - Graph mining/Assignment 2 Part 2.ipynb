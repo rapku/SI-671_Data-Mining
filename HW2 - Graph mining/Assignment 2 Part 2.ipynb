{
 "cells": [
  {
   "cell_type": "code",
   "execution_count": 1,
   "metadata": {
    "collapsed": true
   },
   "outputs": [],
   "source": [
    "import numpy as np\n",
    "from scipy.sparse import lil_matrix, dok_matrix\n",
    "import re\n",
    "import networkx as nx\n",
    "from collections import OrderedDict, Counter, defaultdict\n",
    "from statistics import mode\n",
    "import csv"
   ]
  },
  {
   "cell_type": "code",
   "execution_count": 2,
   "metadata": {
    "collapsed": true
   },
   "outputs": [],
   "source": [
    "G = nx.read_edgelist('network.tsv')"
   ]
  },
  {
   "cell_type": "code",
   "execution_count": 3,
   "metadata": {
    "collapsed": true
   },
   "outputs": [],
   "source": [
    "def check_t8(access):\n",
    "    if len(access) == 5:\n",
    "        return -1\n",
    "    else:\n",
    "        return int(access[6])"
   ]
  },
  {
   "cell_type": "code",
   "execution_count": 5,
   "metadata": {},
   "outputs": [
    {
     "name": "stdout",
     "output_type": "stream",
     "text": [
      "0\n",
      "1000000\n",
      "2000000\n",
      "3000000\n",
      "4000000\n",
      "5000000\n"
     ]
    }
   ],
   "source": [
    "dictval = OrderedDict()\n",
    "\n",
    "with open('labeled-vertices.train.tsv') as training:\n",
    "    i = 0\n",
    "    for line in training:\n",
    "        if i%1000000 == 0:\n",
    "            print(i)\n",
    "        access = re.findall('\\d+', line)\n",
    "\n",
    "        i+=1\n",
    "        dictval[access[0]] = (int(access[2]), int(access[4]), check_t8(access))"
   ]
  },
  {
   "cell_type": "code",
   "execution_count": 6,
   "metadata": {
    "collapsed": true
   },
   "outputs": [],
   "source": [
    "mostcommon_val = Counter(dictval.values()).most_common(1)[0][0]"
   ]
  },
  {
   "cell_type": "code",
   "execution_count": 7,
   "metadata": {
    "collapsed": true
   },
   "outputs": [],
   "source": [
    "def check(node):\n",
    "    node = str(node)\n",
    "    counter_neigh = Counter()\n",
    "    counter_ego = Counter()\n",
    "    print('Identity: {}'.format(dictval[node]))\n",
    "    \n",
    "    neighbors = G.neighbors(node)\n",
    "    counter_neigh.update([dictval[x] for x in neighbors if x in dictval.keys()])\n",
    "    print('Neighbors')\n",
    "    print(counter_neigh)\n",
    "    \n",
    "    counter_ego.update([dictval[x] for x, y in nx.single_source_shortest_path_length(G, node, cutoff=2).items() if y == 2 and x in dictval.keys()])\n",
    "    print('Ego')\n",
    "    print(counter_ego)"
   ]
  },
  {
   "cell_type": "code",
   "execution_count": null,
   "metadata": {
    "collapsed": true
   },
   "outputs": [],
   "source": [
    "check(88)"
   ]
  },
  {
   "cell_type": "code",
   "execution_count": 13,
   "metadata": {
    "collapsed": true
   },
   "outputs": [],
   "source": [
    "def naive(node):\n",
    "    node = str(node)\n",
    "    counter_a = Counter()\n",
    "    counter_a.update([dictval[x] for x in G.neighbors(node) if x in dictval.keys()])\n",
    "    counter_a.update([dictval[x] for x, y in nx.single_source_shortest_path_length(G, node, cutoff=2).items() if y == 2 and x in dictval.keys()])\n",
    "    if counter_a.most_common(1) == []:\n",
    "        return mostcommon_val\n",
    "    else:\n",
    "        return counter_a.most_common(1)[0][0]"
   ]
  },
  {
   "cell_type": "code",
   "execution_count": 8,
   "metadata": {
    "collapsed": true
   },
   "outputs": [],
   "source": [
    "def jaccweight(node):\n",
    "    node = str(node)\n",
    "    a = nx.jaccard_coefficient(G, [(node, x) for x in nx.ego_graph(G,node, radius=2).nodes() if x != node and x in dictval.keys()])\n",
    "    counter_a = defaultdict(int)\n",
    "    for x,y,z in a:\n",
    "        counter_a[dictval[y]] += z\n",
    "#     print(counter_a)\n",
    "    if counter_a == {}:\n",
    "        return mostcommon_val\n",
    "    else:\n",
    "        return max(counter_a, key=counter_a.get)"
   ]
  },
  {
   "cell_type": "code",
   "execution_count": 9,
   "metadata": {
    "collapsed": true
   },
   "outputs": [],
   "source": [
    "def t8write(combo):\n",
    "    if combo[2] == -1:\n",
    "        return ''\n",
    "    else:\n",
    "        return ' T8:{}'.format(combo[2])"
   ]
  },
  {
   "cell_type": "code",
   "execution_count": null,
   "metadata": {
    "collapsed": true,
    "scrolled": true
   },
   "outputs": [],
   "source": [
    "with open('naive_result.csv', 'w') as csvfile:\n",
    "    csvwrite = csv.writer(csvfile, delimiter=',')\n",
    "    csvwrite.writerow(['id', 'attr'])\n",
    "    \n",
    "    with open('unlabeled-vertices.test.txt') as file:\n",
    "        for x in file:\n",
    "            clean = x.strip('\\n')\n",
    "            naive_result = naive(clean)\n",
    "            line = 'T0:{} T1:{}'.format(naive_result[0], naive_result[1]) + t8write(naive_result)\n",
    "            csvwrite.writerow([clean, line])\n",
    "            print(clean, naive_result)"
   ]
  },
  {
   "cell_type": "code",
   "execution_count": null,
   "metadata": {
    "collapsed": true
   },
   "outputs": [],
   "source": [
    "with open('jacc_result.csv', 'w') as csvfile:\n",
    "    csvwrite = csv.writer(csvfile, delimiter=',')\n",
    "    csvwrite.writerow(['id', 'attr'])\n",
    "    \n",
    "    i = 0\n",
    "    with open('unlabeled-vertices.test.txt') as file:\n",
    "        for x in file:\n",
    "            if i%100000 == 0:\n",
    "                print(i)\n",
    "            clean = x.strip('\\n')\n",
    "            jacc_result = jaccweight(clean)\n",
    "            line = 'T0:{} T1:{}'.format(jacc_result[0], jacc_result[1]) + t8write(jacc_result)\n",
    "            csvwrite.writerow([clean, line])\n",
    "            i += 1\n",
    "#             print(clean, jacc_result)"
   ]
  },
  {
   "cell_type": "markdown",
   "metadata": {},
   "source": [
    "### Failed"
   ]
  },
  {
   "cell_type": "code",
   "execution_count": null,
   "metadata": {
    "collapsed": true
   },
   "outputs": [],
   "source": [
    "check(421294)"
   ]
  },
  {
   "cell_type": "code",
   "execution_count": null,
   "metadata": {
    "collapsed": true
   },
   "outputs": [],
   "source": [
    "from sklearn.ensemble import RandomForestClassifier\n",
    "from sklearn.multioutput import MultiOutputClassifier"
   ]
  },
  {
   "cell_type": "code",
   "execution_count": null,
   "metadata": {
    "collapsed": true
   },
   "outputs": [],
   "source": [
    "rf = RandomForestClassifier(n_estimators=25, random_state=385)\n",
    "multi_target_forest = MultiOutputClassifier(forest, n_jobs=-1)"
   ]
  },
  {
   "cell_type": "code",
   "execution_count": null,
   "metadata": {
    "collapsed": true
   },
   "outputs": [],
   "source": [
    "rf_model = multi_target_forest.fit(X_train, y_train)\n",
    "predictions = rf_model.predict(X_train)\n",
    "\n",
    "predictions"
   ]
  },
  {
   "cell_type": "code",
   "execution_count": null,
   "metadata": {
    "collapsed": true
   },
   "outputs": [],
   "source": [
    "y_train = dok_matrix((5301403,3))\n",
    "\n",
    "i = 0\n",
    "    # add to below\n",
    "for x in list(dictval.keys()):\n",
    "    if i%100000 == 0:\n",
    "        print(i)\n",
    "\n",
    "    y_train[i, 0] = dictval[x][0]\n",
    "    y_train[i, 1] = dictval[x][1]\n",
    "    y_train[i, 2] = dictval[x][2]        \n",
    "\n",
    "#     X_train[i,0] = G.degree(x)\n",
    "\n",
    "#     X_train[i,1] = nx.closeness_centrality(G,u=x)\n",
    "#     X_train[i,2] = nx.average_neighbor_degree(G, nodes=x)\n",
    "#     X_train[i,3] = nx.clustering(G, nodes=x)\n",
    "\n",
    "#     #neighbors mode attributes:\n",
    "#     neighbors = G.neighbors(x)\n",
    "#     X_train[i,1] = mode([dictval[node][0] for node in neighbors])\n",
    "#     X_train[i,2] = mode([dictval[node][1] for node in neighbors])\n",
    "#     X_train[i,3] = mode([dictval[node][2] for node in neighbors])\n",
    "\n",
    "    \n",
    "    i += 1"
   ]
  },
  {
   "cell_type": "code",
   "execution_count": null,
   "metadata": {
    "collapsed": true
   },
   "outputs": [],
   "source": [
    "X_train = dok_matrix((5301403,4))\n",
    "i = 0\n",
    "for x in list(dictval.keys()):\n",
    "    if i%100000 == 0:\n",
    "        print(i)\n",
    "    X_train[i,0] = G.degree(x)\n",
    "    \n",
    "    \n",
    "    ego = nx.ego_graph(G,x, radius=2)\n",
    "    #neighbors mode attributes:\n",
    "#     neighbors = G.neighbors(x)\n",
    "#     select = mode([dictval[node] for node in neighbors if node in dictval.keys()])\n",
    "#     X_train[i,1] = select[0]\n",
    "#     X_train[i,2] = select[1]\n",
    "#     X_train[i,3] = select[2]\n",
    "    X_train[i,1] = ego.number_of_nodes()\n",
    "    \n",
    "    a = nx.jaccard_coefficient(G, [(x, node) for node in ego.nodes() if node != x and node in dictval.keys()])\n",
    "    jacmeasure = Counter()\n",
    "    jactotal = 0\n",
    "    for b,c,d in a:\n",
    "        jacmeasure[dictval[c]] += d\n",
    "        jactotal += d\n",
    "    X_train[i,2] =  all_combos[max(jacmeasure, key=jacmeasure.get)]\n",
    "    X_train[i,3] =  max(jacmeasure.values())/jactotal\n",
    "    i += 1"
   ]
  },
  {
   "cell_type": "markdown",
   "metadata": {},
   "source": [
    "#### Error analysis"
   ]
  },
  {
   "cell_type": "code",
   "execution_count": 11,
   "metadata": {},
   "outputs": [
    {
     "name": "stdout",
     "output_type": "stream",
     "text": [
      "0\n",
      "100000\n",
      "200000\n",
      "300000\n",
      "400000\n",
      "500000\n",
      "600000\n"
     ]
    }
   ],
   "source": [
    "devval = OrderedDict()\n",
    "\n",
    "with open('labeled-vertices.dev.tsv') as dev:\n",
    "    i = 0\n",
    "    for line in dev:\n",
    "        if i%100000 == 0:\n",
    "            print(i)\n",
    "        access = re.findall('\\d+', line)\n",
    "\n",
    "        i+=1\n",
    "        devval[access[0]] = (int(access[2]), int(access[4]), check_t8(access))\n",
    "    "
   ]
  },
  {
   "cell_type": "code",
   "execution_count": null,
   "metadata": {
    "collapsed": true
   },
   "outputs": [],
   "source": [
    "errors = {'t0':0, 't1':0, 't8':0}\n",
    "\n",
    "for x,y in devval.items():\n",
    "    if i % 100000 == 0:\n",
    "        print(i)\n",
    "    pred = naive(x)\n",
    "    if pred[0] != y[0]:\n",
    "        errors['t0'] += 1\n",
    "    if pred[1] != y[1]:\n",
    "        errors['t1'] += 1\n",
    "    if pred[2] != y[2]:\n",
    "        errors['t8'] += 1\n",
    "    i+=1"
   ]
  },
  {
   "cell_type": "code",
   "execution_count": null,
   "metadata": {
    "collapsed": true
   },
   "outputs": [],
   "source": []
  }
 ],
 "metadata": {
  "kernelspec": {
   "display_name": "Python 3",
   "language": "python",
   "name": "python3"
  },
  "language_info": {
   "codemirror_mode": {
    "name": "ipython",
    "version": 3
   },
   "file_extension": ".py",
   "mimetype": "text/x-python",
   "name": "python",
   "nbconvert_exporter": "python",
   "pygments_lexer": "ipython3",
   "version": "3.6.3"
  }
 },
 "nbformat": 4,
 "nbformat_minor": 2
}
